{
 "cells": [
  {
   "cell_type": "code",
   "execution_count": 1,
   "id": "8bf317d3",
   "metadata": {},
   "outputs": [],
   "source": [
    "import numpy as np"
   ]
  },
  {
   "cell_type": "code",
   "execution_count": 2,
   "id": "4851f4f9",
   "metadata": {},
   "outputs": [],
   "source": [
    "class SVM():\n",
    "\n",
    "    def __init__(self, lr = 0.001, lam = 0.01, epochs = 100):\n",
    "        self.lr = lr\n",
    "        self.lam = lam\n",
    "        self.epochs = epochs\n",
    "        self.weights = None\n",
    "        self.bias = None\n",
    "\n",
    "    def fit(self, X, y):\n",
    "        self.weights = np.zeros(X.shape[1])\n",
    "        self.bias = 0\n",
    "        \n",
    "        y = y.reset_index(drop=True)\n",
    "\n",
    "        y_class = np.where(y == 0, -1, 1)\n",
    "\n",
    "        for _ in range(self.epochs):\n",
    "            for j in range(len(X)):\n",
    "                x = X.iloc[j]\n",
    "\n",
    "                if (y_class[j] * (np.dot(x, self.weights) - self.bias) >= 1):\n",
    "                    self.weights -= self.lr * (2*self.lam*self.weights)\n",
    "                else:\n",
    "                    self.weights -= self.lr * (2*self.lam*self.weights - np.dot(x, y_class[j]))\n",
    "                    self.bias -= self.lr * y_class[j]\n",
    "    \n",
    "\n",
    "    def predict(self, X):\n",
    "        temp_labels = np.dot(X, self.weights) - self.bias\n",
    "        labels = []\n",
    "        for i in temp_labels:\n",
    "            if (np.sign(i) == 1):\n",
    "                label = 1\n",
    "            else:\n",
    "                label = 0\n",
    "            labels.append(label)\n",
    "        return labels\n",
    "    "
   ]
  },
  {
   "cell_type": "code",
   "execution_count": null,
   "id": "b61ce44c",
   "metadata": {},
   "outputs": [],
   "source": []
  },
  {
   "cell_type": "code",
   "execution_count": null,
   "id": "e046f100",
   "metadata": {},
   "outputs": [],
   "source": []
  },
  {
   "cell_type": "code",
   "execution_count": null,
   "id": "def16228",
   "metadata": {},
   "outputs": [],
   "source": []
  }
 ],
 "metadata": {
  "kernelspec": {
   "display_name": "Python 3 (ipykernel)",
   "language": "python",
   "name": "python3"
  },
  "language_info": {
   "codemirror_mode": {
    "name": "ipython",
    "version": 3
   },
   "file_extension": ".py",
   "mimetype": "text/x-python",
   "name": "python",
   "nbconvert_exporter": "python",
   "pygments_lexer": "ipython3",
   "version": "3.11.5"
  }
 },
 "nbformat": 4,
 "nbformat_minor": 5
}
