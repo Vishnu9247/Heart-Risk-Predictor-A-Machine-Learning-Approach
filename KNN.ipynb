{
 "cells": [
  {
   "cell_type": "code",
   "execution_count": 1,
   "id": "bef9f4f0",
   "metadata": {},
   "outputs": [],
   "source": [
    "import numpy as np"
   ]
  },
  {
   "cell_type": "code",
   "execution_count": 2,
   "id": "1082ff1f",
   "metadata": {},
   "outputs": [],
   "source": [
    "class KNN():\n",
    "    def __init__(self, k):\n",
    "        self.k = k\n",
    "        \n",
    "    def fit(self, X, y):\n",
    "        self.train_X = X\n",
    "        self.train_y = y.reset_index(drop=True)\n",
    "        \n",
    "        \n",
    "    def predict_one(self, x):\n",
    "        distances = []\n",
    "        #for j in range(test_X.shape[0]):\n",
    "        #temp = 0\n",
    "        for i in range(self.train_X.shape[0]):\n",
    "            dist = np.sqrt(np.sum((self.train_X.iloc[i] - x)**2))\n",
    "            #temp += dist\n",
    "            distances.append(dist)\n",
    "        \n",
    "        k_ind = np.argsort(distances)[:self.k]\n",
    "        k_labels = []\n",
    "        for j in k_ind:\n",
    "            label = self.train_y[j]\n",
    "            k_labels.append(label)       \n",
    "        k_label = np.argmax(np.bincount(k_labels))\n",
    "        return k_label\n",
    "    \n",
    "    \n",
    "    \n",
    "    def predict(self, X):\n",
    "        predictions = []\n",
    "        for z in range(X.shape[0]):\n",
    "            prediction = self.predict_one(X.iloc[z])\n",
    "            predictions.append(prediction)\n",
    "        return predictions"
   ]
  },
  {
   "cell_type": "code",
   "execution_count": null,
   "id": "4cc3a99c",
   "metadata": {},
   "outputs": [],
   "source": []
  },
  {
   "cell_type": "code",
   "execution_count": null,
   "id": "1ed1a379",
   "metadata": {},
   "outputs": [],
   "source": []
  },
  {
   "cell_type": "code",
   "execution_count": null,
   "id": "48570f04",
   "metadata": {},
   "outputs": [],
   "source": []
  },
  {
   "cell_type": "code",
   "execution_count": null,
   "id": "c6d636d7",
   "metadata": {},
   "outputs": [],
   "source": []
  }
 ],
 "metadata": {
  "kernelspec": {
   "display_name": "Python 3 (ipykernel)",
   "language": "python",
   "name": "python3"
  },
  "language_info": {
   "codemirror_mode": {
    "name": "ipython",
    "version": 3
   },
   "file_extension": ".py",
   "mimetype": "text/x-python",
   "name": "python",
   "nbconvert_exporter": "python",
   "pygments_lexer": "ipython3",
   "version": "3.11.5"
  }
 },
 "nbformat": 4,
 "nbformat_minor": 5
}
